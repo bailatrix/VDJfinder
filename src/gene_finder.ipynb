{
 "cells": [
  {
   "cell_type": "code",
   "execution_count": 1,
   "metadata": {},
   "outputs": [],
   "source": [
    "# system dependencies\n",
    "from argparse import ArgumentParser"
   ]
  },
  {
   "cell_type": "code",
   "execution_count": 2,
   "metadata": {},
   "outputs": [],
   "source": [
    "# program dependencies\n",
    "import pandas as pd"
   ]
  },
  {
   "cell_type": "code",
   "execution_count": 3,
   "metadata": {},
   "outputs": [],
   "source": [
    "# homemade programs\n",
    "from modules.compare import compare_partials\n",
    "from modules.v_gene import v_search\n",
    "from modules.d_gene import d_search\n",
    "from modules.j_gene import j_search"
   ]
  },
  {
   "cell_type": "markdown",
   "metadata": {},
   "source": [
    "### Program format options\n",
    "**********************************************************************************************************************"
   ]
  },
  {
   "cell_type": "markdown",
   "metadata": {},
   "source": [
    "_Uncomment below cell to support Jupyter notebook version of script_"
   ]
  },
  {
   "cell_type": "code",
   "execution_count": 4,
   "metadata": {},
   "outputs": [],
   "source": [
    "# locus file to reference\n",
    "locus = '../Loci/IGH_locus.fasta'\n",
    "\n",
    "# gene-specific file locations\n",
    "source_dir = '../IMGT_human/IMGT/'\n",
    "\n",
    "vgene_file = source_dir+'IGHV.fasta'\n",
    "dgene_file = source_dir+'IGHD.fasta'\n",
    "jgene_file = source_dir+'IGHJ.fasta'"
   ]
  },
  {
   "cell_type": "markdown",
   "metadata": {},
   "source": [
    "_Uncomment below cell to support the command line version of script_"
   ]
  },
  {
   "cell_type": "code",
   "execution_count": 5,
   "metadata": {},
   "outputs": [],
   "source": [
    "#parser = ArgumentParser(description='Find VDJ genes in long reads')\n",
    "#parser.add_argument('-f', dest='locus', help='Input fasta file')\n",
    "#parser.add_argument('-v', dest='vgene_file', help='V gene reference')\n",
    "#parser.add_argument('-d', dest='dgene_file', help='D gene reference')\n",
    "#parser.add_argument('-j', dest='jgene_file', help='J gene reference')\n",
    "#args = parser.parse_args()\n",
    "#locus = args.locus\n",
    "#vgene_file = args.vgene_file\n",
    "#dgene_file = args.dgene_file\n",
    "#jgene_file = args.jgene_file"
   ]
  },
  {
   "cell_type": "markdown",
   "metadata": {},
   "source": [
    "### Read fasta sequence\n",
    "**********************************************************************************************************************"
   ]
  },
  {
   "cell_type": "code",
   "execution_count": 6,
   "metadata": {},
   "outputs": [
    {
     "name": "stdout",
     "output_type": "stream",
     "text": [
      "There is already a IGHV_found.fasta file. Overwrite existing output? [y/n]\ty\n",
      "Deleting existing file contents.\n"
     ]
    },
    {
     "data": {
      "text/plain": [
       "893263"
      ]
     },
     "execution_count": 6,
     "metadata": {},
     "output_type": "execute_result"
    }
   ],
   "source": [
    "v_search( locus, vgene_file, pseudogenes=True )"
   ]
  },
  {
   "cell_type": "code",
   "execution_count": 7,
   "metadata": {},
   "outputs": [
    {
     "name": "stdout",
     "output_type": "stream",
     "text": [
      "There is already a IGHD_found.fasta file. Overwrite existing output? [y/n]\ty\n",
      "Deleting existing file contents.\n",
      "There is already a IGHD_pseudogenes_found.pickle file. Overwrite existing output? [y/n]\ty\n",
      "Deleting existing file contents.\n",
      "last_v_nt = False\n"
     ]
    }
   ],
   "source": [
    "d_search( locus, dgene_file, pseudogenes=True )"
   ]
  },
  {
   "cell_type": "code",
   "execution_count": 8,
   "metadata": {},
   "outputs": [
    {
     "name": "stdout",
     "output_type": "stream",
     "text": [
      "There is already a IGHJ_found.fasta file. Overwrite existing output? [y/n]\ty\n",
      "Deleting existing file contents.\n",
      "There is already a IGHJ_pseudogenes_found.pickle file. Overwrite existing output? [y/n]\ty\n",
      "Deleting existing file contents.\n",
      "last_v_nt = False\n"
     ]
    }
   ],
   "source": [
    "j_search( locus, jgene_file, pseudogenes=True )"
   ]
  }
 ],
 "metadata": {
  "kernelspec": {
   "display_name": "Python 3",
   "language": "python",
   "name": "python3"
  },
  "language_info": {
   "codemirror_mode": {
    "name": "ipython",
    "version": 3
   },
   "file_extension": ".py",
   "mimetype": "text/x-python",
   "name": "python",
   "nbconvert_exporter": "python",
   "pygments_lexer": "ipython3",
   "version": "3.6.6"
  }
 },
 "nbformat": 4,
 "nbformat_minor": 2
}
