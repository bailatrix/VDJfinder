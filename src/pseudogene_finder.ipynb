{
 "cells": [
  {
   "cell_type": "markdown",
   "metadata": {},
   "source": [
    "# This version of program is specific for IGH[VDJ]\n",
    "\n",
    "_To Do_:\n",
    "- Alter program to accept arguments for light chain v. heavy chain, v, d, and j gene files\n",
    "- Write secondary program/functions to scan for matches of pseudogenes, optional parameter for minimum percent match. Alternate option to reverse search by allele"
   ]
  },
  {
   "cell_type": "code",
   "execution_count": 22,
   "metadata": {},
   "outputs": [],
   "source": [
    "from argparse import ArgumentParser\n",
    "from os import listdir\n",
    "import pandas as pd\n",
    "import pickle"
   ]
  },
  {
   "cell_type": "code",
   "execution_count": 2,
   "metadata": {},
   "outputs": [],
   "source": [
    "# homemade programs\n",
    "from modules.compare import compare_dict\n",
    "from modules.compare import pseudo_matches\n",
    "from modules.compare import top_matches\n",
    "from modules.v_gene import v_search\n",
    "from modules.d_gene import d_search\n",
    "from modules.j_gene import j_search\n",
    "from modules.prep_IO import prep_database"
   ]
  },
  {
   "cell_type": "code",
   "execution_count": 24,
   "metadata": {},
   "outputs": [],
   "source": [
    "out_dir = './data/'"
   ]
  },
  {
   "cell_type": "code",
   "execution_count": 23,
   "metadata": {},
   "outputs": [
    {
     "data": {
      "text/plain": [
       "['IGHV_pseudogenes_found.pickle',\n",
       " 'IGHJ_pseudogenes_found.pickle',\n",
       " 'IGHD_pseudogenes_found.pickle']"
      ]
     },
     "execution_count": 23,
     "metadata": {},
     "output_type": "execute_result"
    }
   ],
   "source": [
    "pseudogene_files = [ file for file in listdir('./output/') if 'pseudogenes_found' in file ]\n",
    "pseudogene_files"
   ]
  },
  {
   "cell_type": "markdown",
   "metadata": {},
   "source": [
    "_Uncomment below cell to support Jupyter notebook version of script_"
   ]
  },
  {
   "cell_type": "code",
   "execution_count": 4,
   "metadata": {},
   "outputs": [],
   "source": [
    "# gene-specific file locations\n",
    "source_dir = '../IMGT_human/IMGT/'\n",
    "\n",
    "vgene_file = source_dir+'IGHV.fasta'\n",
    "dgene_file = source_dir+'IGHD.fasta'\n",
    "jgene_file = source_dir+'IGHJ.fasta'"
   ]
  },
  {
   "cell_type": "markdown",
   "metadata": {},
   "source": [
    "_Uncomment below cell to support the command line version of script_"
   ]
  },
  {
   "cell_type": "code",
   "execution_count": 5,
   "metadata": {},
   "outputs": [],
   "source": [
    "#parser = ArgumentParser(description='Find VDJ genes in long reads')\n",
    "#parser.add_argument('-f', dest='locus_file', help='Input fasta file')\n",
    "#parser.add_argument('-v', dest='vgene_file', help='V gene reference')\n",
    "#parser.add_argument('-d', dest='dgene_file', help='D gene reference')\n",
    "#parser.add_argument('-j', dest='jgene_file', help='J gene reference')\n",
    "#args = parser.parse_args()\n",
    "#locus_file = args.locus_file\n",
    "#vgene_file = args.vgene_file\n",
    "#dgene_file = args.dgene_file\n",
    "#jgene_file = args.jgene_file"
   ]
  },
  {
   "cell_type": "markdown",
   "metadata": {},
   "source": [
    "### Scan Pseudogenes\n",
    "v genes"
   ]
  },
  {
   "cell_type": "code",
   "execution_count": 6,
   "metadata": {},
   "outputs": [],
   "source": [
    "f = './output/IGHV_pseudogenes_found.pickle'\n",
    "vseq_dict, vtype_dict = prep_database( vgene_file )"
   ]
  },
  {
   "cell_type": "code",
   "execution_count": 7,
   "metadata": {},
   "outputs": [],
   "source": [
    "with open( f, 'rb' ) as fp:\n",
    "    pseudogenes_v = pickle.load( fp )"
   ]
  },
  {
   "cell_type": "code",
   "execution_count": 8,
   "metadata": {},
   "outputs": [],
   "source": [
    "pseudo_dict_v = pseudo_matches( pseudogenes_v, vseq_dict )"
   ]
  },
  {
   "cell_type": "code",
   "execution_count": 9,
   "metadata": {},
   "outputs": [],
   "source": [
    "top_matches_v = top_matches( pseudo_dict_v )"
   ]
  },
  {
   "cell_type": "markdown",
   "metadata": {},
   "source": [
    "d genes"
   ]
  },
  {
   "cell_type": "code",
   "execution_count": 10,
   "metadata": {},
   "outputs": [],
   "source": [
    "f = './output/IGHD_pseudogenes_found.pickle'\n",
    "dseq_dict, dtype_dict = prep_database( dgene_file )"
   ]
  },
  {
   "cell_type": "code",
   "execution_count": 11,
   "metadata": {},
   "outputs": [],
   "source": [
    "with open( f, 'rb' ) as fp:\n",
    "    pseudogenes_d = pickle.load( fp )"
   ]
  },
  {
   "cell_type": "code",
   "execution_count": 12,
   "metadata": {},
   "outputs": [],
   "source": [
    "pseudo_dict_d = pseudo_matches( pseudogenes_d, dseq_dict )"
   ]
  },
  {
   "cell_type": "code",
   "execution_count": 13,
   "metadata": {},
   "outputs": [],
   "source": [
    "top_matches_d = top_matches( pseudo_dict_d )"
   ]
  },
  {
   "cell_type": "code",
   "execution_count": 14,
   "metadata": {},
   "outputs": [
    {
     "data": {
      "text/plain": [
       "[('IGHD4-17*01', 0.25, 'tattactgtgtgagagg'),\n",
       " ('IGHD5-24*01', 0.25, 'tattactgtgtgagagg'),\n",
       " ('IGHD7-27*01', 0.364, 'tattactgtgtgagagg'),\n",
       " ('IGHD1/OR15-1a*01', 0.294, 'cccagccacaaacaagtatttttaagcaaaaga'),\n",
       " ('IGHD1/OR15-1b*01', 0.294, 'cccagccacaaacaagtatttttaagcaaaaga'),\n",
       " ('IGHD4-11*01', 0.25, 'cccagccacaaacaagtatttttaagcaaaaga'),\n",
       " ('IGHD4-4*01', 0.25, 'cccagccacaaacaagtatttttaagcaaaaga'),\n",
       " ('IGHD6-6*01', 0.278, 'cccagccacaaacaagtatttttaagcaaaaga'),\n",
       " ('IGHD7-27*01', 0.273, 'cccagccacaaacaagtatttttaagcaaaaga'),\n",
       " ('IGHD7-27*01', 0.364, 'gggaatctagg'),\n",
       " ('IGHD7-27*01', 0.364, 'ctaagaaaatatctt'),\n",
       " ('IGHD4-11*01', 0.25, 'aggacactaga'),\n",
       " ('IGHD4-17*01', 0.25, 'aggacactaga'),\n",
       " ('IGHD4-4*01', 0.25, 'aggacactaga'),\n",
       " ('IGHD7-27*01', 0.273, 'aggacactaga'),\n",
       " ('IGHD4-17*01', 0.25, 'gtacgagtcc')]"
      ]
     },
     "execution_count": 14,
     "metadata": {},
     "output_type": "execute_result"
    }
   ],
   "source": [
    "top_matches_d"
   ]
  },
  {
   "cell_type": "markdown",
   "metadata": {},
   "source": [
    "j genes"
   ]
  },
  {
   "cell_type": "code",
   "execution_count": 15,
   "metadata": {},
   "outputs": [],
   "source": [
    "f = './output/IGHJ_pseudogenes_found.pickle'\n",
    "jseq_dict, jtype_dict = prep_database( jgene_file )"
   ]
  },
  {
   "cell_type": "code",
   "execution_count": 16,
   "metadata": {},
   "outputs": [],
   "source": [
    "with open( f, 'rb' ) as fp:\n",
    "    pseudogenes_j = pickle.load( fp )"
   ]
  },
  {
   "cell_type": "code",
   "execution_count": 17,
   "metadata": {},
   "outputs": [],
   "source": [
    "pseudo_dict_j = pseudo_matches( pseudogenes_j, jseq_dict )"
   ]
  },
  {
   "cell_type": "code",
   "execution_count": 18,
   "metadata": {},
   "outputs": [],
   "source": [
    "top_matches_j = top_matches( pseudo_dict_j )"
   ]
  },
  {
   "cell_type": "markdown",
   "metadata": {},
   "source": [
    "### Updating Pseudogene Database"
   ]
  },
  {
   "cell_type": "code",
   "execution_count": 19,
   "metadata": {},
   "outputs": [
    {
     "ename": "NameError",
     "evalue": "name 'pseudo_data' is not defined",
     "output_type": "error",
     "traceback": [
      "\u001b[0;31m---------------------------------------------------------------------------\u001b[0m",
      "\u001b[0;31mNameError\u001b[0m                                 Traceback (most recent call last)",
      "\u001b[0;32m<ipython-input-19-e64e9b7c3d20>\u001b[0m in \u001b[0;36m<module>\u001b[0;34m()\u001b[0m\n\u001b[0;32m----> 1\u001b[0;31m \u001b[0mpseudo_df\u001b[0m \u001b[0;34m=\u001b[0m \u001b[0mpd\u001b[0m\u001b[0;34m.\u001b[0m\u001b[0mread_csv\u001b[0m\u001b[0;34m(\u001b[0m \u001b[0mpseudo_data\u001b[0m \u001b[0;34m)\u001b[0m\u001b[0;34m\u001b[0m\u001b[0m\n\u001b[0m",
      "\u001b[0;31mNameError\u001b[0m: name 'pseudo_data' is not defined"
     ]
    }
   ],
   "source": [
    "pseudo_df = pd.read_csv( pseudo_data )"
   ]
  },
  {
   "cell_type": "code",
   "execution_count": null,
   "metadata": {},
   "outputs": [],
   "source": [
    "pseudo_df = pd.DataFrame( columns=['Allele', 'Percent Match', 'Gene'] )"
   ]
  },
  {
   "cell_type": "code",
   "execution_count": null,
   "metadata": {},
   "outputs": [],
   "source": [
    "pseudo_df['Gene'] = pseudogenes"
   ]
  },
  {
   "cell_type": "code",
   "execution_count": null,
   "metadata": {},
   "outputs": [],
   "source": [
    "pseudo_df"
   ]
  }
 ],
 "metadata": {
  "kernelspec": {
   "display_name": "Python 3",
   "language": "python",
   "name": "python3"
  },
  "language_info": {
   "codemirror_mode": {
    "name": "ipython",
    "version": 3
   },
   "file_extension": ".py",
   "mimetype": "text/x-python",
   "name": "python",
   "nbconvert_exporter": "python",
   "pygments_lexer": "ipython3",
   "version": "3.6.6"
  }
 },
 "nbformat": 4,
 "nbformat_minor": 2
}
