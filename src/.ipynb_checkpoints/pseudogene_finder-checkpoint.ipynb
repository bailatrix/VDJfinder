{
 "cells": [
  {
   "cell_type": "markdown",
   "metadata": {},
   "source": [
    "# This version of program is specific for IGH[VDJ]\n",
    "\n",
    "_To Do_:\n",
    "- Alter program to accept arguments for light chain v. heavy chain, v, d, and j gene files\n",
    "- Write secondary program/functions to scan for matches of pseudogenes, optional parameter for minimum percent match. Alternate option to reverse search by allele"
   ]
  },
  {
   "cell_type": "code",
   "execution_count": 1,
   "metadata": {},
   "outputs": [],
   "source": [
    "from argparse import ArgumentParser\n",
    "import pandas as pd\n",
    "import pickle"
   ]
  },
  {
   "cell_type": "code",
   "execution_count": 2,
   "metadata": {},
   "outputs": [],
   "source": [
    "# homemade programs\n",
    "from modules.compare import compare_dict\n",
    "from modules.compare import pseudo_matches\n",
    "from modules.compare import top_matches\n",
    "from modules.v_gene import v_search\n",
    "from modules.d_gene import d_search\n",
    "from modules.j_gene import j_search\n",
    "from modules.prep_IO import prep_database"
   ]
  },
  {
   "cell_type": "code",
   "execution_count": 3,
   "metadata": {},
   "outputs": [],
   "source": [
    "locus_file = '../Loci/IGH_locus.fasta'"
   ]
  },
  {
   "cell_type": "markdown",
   "metadata": {},
   "source": [
    "_Uncomment below cell to support Jupyter notebook version of script_"
   ]
  },
  {
   "cell_type": "code",
   "execution_count": 4,
   "metadata": {},
   "outputs": [],
   "source": [
    "# locus file to reference\n",
    "locus_file = '../Loci/IGH_locus.fasta'\n",
    "\n",
    "# gene-specific file locations\n",
    "source_dir = '../IMGT_human/IMGT/'\n",
    "\n",
    "vgene_file = source_dir+'IGHV.fasta'\n",
    "dgene_file = source_dir+'IGHD.fasta'\n",
    "jgene_file = source_dir+'IGHJ.fasta'"
   ]
  },
  {
   "cell_type": "markdown",
   "metadata": {},
   "source": [
    "_Uncomment below cell to support the command line version of script_"
   ]
  },
  {
   "cell_type": "code",
   "execution_count": 5,
   "metadata": {},
   "outputs": [],
   "source": [
    "#parser = ArgumentParser(description='Find VDJ genes in long reads')\n",
    "#parser.add_argument('-f', dest='locus_file', help='Input fasta file')\n",
    "#parser.add_argument('-v', dest='vgene_file', help='V gene reference')\n",
    "#parser.add_argument('-d', dest='dgene_file', help='D gene reference')\n",
    "#parser.add_argument('-j', dest='jgene_file', help='J gene reference')\n",
    "#args = parser.parse_args()\n",
    "#locus_file = args.locus_file\n",
    "#vgene_file = args.vgene_file\n",
    "#dgene_file = args.dgene_file\n",
    "#jgene_file = args.jgene_file"
   ]
  },
  {
   "cell_type": "markdown",
   "metadata": {},
   "source": [
    "### Scan Pseudogenes\n",
    "v genes"
   ]
  },
  {
   "cell_type": "code",
   "execution_count": 6,
   "metadata": {},
   "outputs": [],
   "source": [
    "f = './output/IGHV_pseudogenes_found.pickle'\n",
    "vseq_dict, vtype_dict = prep_database( vgene_file )"
   ]
  },
  {
   "cell_type": "code",
   "execution_count": 7,
   "metadata": {},
   "outputs": [],
   "source": [
    "with open( f, 'rb' ) as fp:\n",
    "    pseudogenes_v = pickle.load( fp )"
   ]
  },
  {
   "cell_type": "code",
   "execution_count": 9,
   "metadata": {},
   "outputs": [
    {
     "ename": "KeyboardInterrupt",
     "evalue": "",
     "output_type": "error",
     "traceback": [
      "\u001b[0;31m---------------------------------------------------------------------------\u001b[0m",
      "\u001b[0;31mKeyboardInterrupt\u001b[0m                         Traceback (most recent call last)",
      "\u001b[0;32m<ipython-input-9-d95a2fb7d7e8>\u001b[0m in \u001b[0;36m<module>\u001b[0;34m()\u001b[0m\n\u001b[0;32m----> 1\u001b[0;31m \u001b[0mpseudo_dict_v\u001b[0m \u001b[0;34m=\u001b[0m \u001b[0mpseudo_matches\u001b[0m\u001b[0;34m(\u001b[0m \u001b[0mpseudogenes_v\u001b[0m\u001b[0;34m,\u001b[0m \u001b[0mvseq_dict\u001b[0m \u001b[0;34m)\u001b[0m\u001b[0;34m\u001b[0m\u001b[0m\n\u001b[0m",
      "\u001b[0;32m~/projects/VDJfinder/src/modules/compare.py\u001b[0m in \u001b[0;36mpseudo_matches\u001b[0;34m(pseudo_list, seq_dict)\u001b[0m\n\u001b[1;32m     92\u001b[0m \u001b[0;34m\u001b[0m\u001b[0m\n\u001b[1;32m     93\u001b[0m     \u001b[0;32mfor\u001b[0m \u001b[0mgene\u001b[0m \u001b[0;32min\u001b[0m \u001b[0mpseudo_list\u001b[0m\u001b[0;34m:\u001b[0m\u001b[0;34m\u001b[0m\u001b[0m\n\u001b[0;32m---> 94\u001b[0;31m         \u001b[0mmatches\u001b[0m\u001b[0;34m[\u001b[0m\u001b[0mgene\u001b[0m\u001b[0;34m]\u001b[0m \u001b[0;34m=\u001b[0m \u001b[0mcompare_dict\u001b[0m\u001b[0;34m(\u001b[0m \u001b[0mgene\u001b[0m\u001b[0;34m,\u001b[0m \u001b[0mseq_dict\u001b[0m \u001b[0;34m)\u001b[0m\u001b[0;34m\u001b[0m\u001b[0m\n\u001b[0m\u001b[1;32m     95\u001b[0m \u001b[0;34m\u001b[0m\u001b[0m\n\u001b[1;32m     96\u001b[0m     \u001b[0;32mreturn\u001b[0m \u001b[0mmatches\u001b[0m\u001b[0;34m\u001b[0m\u001b[0m\n",
      "\u001b[0;32m~/projects/VDJfinder/src/modules/compare.py\u001b[0m in \u001b[0;36mcompare_dict\u001b[0;34m(gene, seq_dict)\u001b[0m\n\u001b[1;32m     83\u001b[0m         \u001b[0;32mreturn\u001b[0m \u001b[0mmatches\u001b[0m\u001b[0;34m\u001b[0m\u001b[0m\n\u001b[1;32m     84\u001b[0m     \u001b[0;32melse\u001b[0m\u001b[0;34m:\u001b[0m\u001b[0;34m\u001b[0m\u001b[0m\n\u001b[0;32m---> 85\u001b[0;31m         \u001b[0;32mreturn\u001b[0m \u001b[0mcompare_partials\u001b[0m\u001b[0;34m(\u001b[0m \u001b[0mgene\u001b[0m\u001b[0;34m,\u001b[0m \u001b[0mseq_dict\u001b[0m \u001b[0;34m)\u001b[0m\u001b[0;34m\u001b[0m\u001b[0m\n\u001b[0m\u001b[1;32m     86\u001b[0m \u001b[0;34m\u001b[0m\u001b[0m\n\u001b[1;32m     87\u001b[0m \u001b[0;31m# Called by the main program\u001b[0m\u001b[0;34m\u001b[0m\u001b[0;34m\u001b[0m\u001b[0m\n",
      "\u001b[0;32m~/projects/VDJfinder/src/modules/compare.py\u001b[0m in \u001b[0;36mcompare_partials\u001b[0;34m(gene, seq_dict)\u001b[0m\n\u001b[1;32m     50\u001b[0m \u001b[0;34m\u001b[0m\u001b[0m\n\u001b[1;32m     51\u001b[0m     \u001b[0;32mfor\u001b[0m \u001b[0mallele\u001b[0m\u001b[0;34m,\u001b[0m \u001b[0mseq\u001b[0m \u001b[0;32min\u001b[0m \u001b[0mseq_dict\u001b[0m\u001b[0;34m.\u001b[0m\u001b[0mitems\u001b[0m\u001b[0;34m(\u001b[0m\u001b[0;34m)\u001b[0m\u001b[0;34m:\u001b[0m\u001b[0;34m\u001b[0m\u001b[0m\n\u001b[0;32m---> 52\u001b[0;31m         \u001b[0mpartials\u001b[0m \u001b[0;34m=\u001b[0m \u001b[0mcompare_substring\u001b[0m\u001b[0;34m(\u001b[0m\u001b[0mgene\u001b[0m\u001b[0;34m,\u001b[0m \u001b[0mseq\u001b[0m\u001b[0;34m,\u001b[0m \u001b[0mallele\u001b[0m\u001b[0;34m)\u001b[0m\u001b[0;34m\u001b[0m\u001b[0m\n\u001b[0m\u001b[1;32m     53\u001b[0m \u001b[0;34m\u001b[0m\u001b[0m\n\u001b[1;32m     54\u001b[0m         \u001b[0;32mif\u001b[0m \u001b[0mpartials\u001b[0m\u001b[0;34m:\u001b[0m\u001b[0;34m\u001b[0m\u001b[0m\n",
      "\u001b[0;32m~/projects/VDJfinder/src/modules/compare.py\u001b[0m in \u001b[0;36mcompare_substring\u001b[0;34m(gene, seq, allele)\u001b[0m\n\u001b[1;32m     29\u001b[0m             \u001b[0mpartial\u001b[0m \u001b[0;34m=\u001b[0m \u001b[0mgene\u001b[0m\u001b[0;34m[\u001b[0m\u001b[0mi\u001b[0m\u001b[0;34m:\u001b[0m\u001b[0;34m-\u001b[0m\u001b[0mj\u001b[0m\u001b[0;34m:\u001b[0m\u001b[0;36m1\u001b[0m\u001b[0;34m]\u001b[0m\u001b[0;34m\u001b[0m\u001b[0m\n\u001b[1;32m     30\u001b[0m \u001b[0;34m\u001b[0m\u001b[0m\n\u001b[0;32m---> 31\u001b[0;31m             \u001b[0;32mif\u001b[0m \u001b[0mpartial\u001b[0m \u001b[0;32min\u001b[0m \u001b[0mseq\u001b[0m\u001b[0;34m:\u001b[0m\u001b[0;34m\u001b[0m\u001b[0m\n\u001b[0m\u001b[1;32m     32\u001b[0m                 \u001b[0mmatch\u001b[0m \u001b[0;34m=\u001b[0m \u001b[0mround\u001b[0m\u001b[0;34m(\u001b[0m \u001b[0mlen\u001b[0m\u001b[0;34m(\u001b[0m\u001b[0mpartial\u001b[0m\u001b[0;34m)\u001b[0m\u001b[0;34m/\u001b[0m\u001b[0mlen\u001b[0m\u001b[0;34m(\u001b[0m\u001b[0mseq\u001b[0m\u001b[0;34m)\u001b[0m\u001b[0;34m,\u001b[0m \u001b[0;36m3\u001b[0m \u001b[0;34m)\u001b[0m\u001b[0;34m\u001b[0m\u001b[0m\n\u001b[1;32m     33\u001b[0m \u001b[0;34m\u001b[0m\u001b[0m\n",
      "\u001b[0;31mKeyboardInterrupt\u001b[0m: "
     ]
    }
   ],
   "source": [
    "pseudo_dict_v = pseudo_matches( pseudogenes_v, vseq_dict )"
   ]
  },
  {
   "cell_type": "code",
   "execution_count": null,
   "metadata": {},
   "outputs": [],
   "source": [
    "top_matches_v = top_matches( pseudo_dict_v )"
   ]
  },
  {
   "cell_type": "markdown",
   "metadata": {},
   "source": [
    "d genes"
   ]
  },
  {
   "cell_type": "code",
   "execution_count": 10,
   "metadata": {},
   "outputs": [],
   "source": [
    "f = './output/IGHD_pseudogenes_found.pickle'\n",
    "dseq_dict, dtype_dict = prep_database( dgene_file )"
   ]
  },
  {
   "cell_type": "code",
   "execution_count": 11,
   "metadata": {},
   "outputs": [],
   "source": [
    "with open( f, 'rb' ) as fp:\n",
    "    pseudogenes_d = pickle.load( fp )"
   ]
  },
  {
   "cell_type": "code",
   "execution_count": 12,
   "metadata": {},
   "outputs": [],
   "source": [
    "pseudo_dict_d = pseudo_matches( pseudogenes_d, dseq_dict )"
   ]
  },
  {
   "cell_type": "code",
   "execution_count": 13,
   "metadata": {},
   "outputs": [],
   "source": [
    "top_matches_d = top_matches( pseudo_dict_d )"
   ]
  },
  {
   "cell_type": "code",
   "execution_count": 14,
   "metadata": {},
   "outputs": [
    {
     "data": {
      "text/plain": [
       "[('IGHD4-17*01', 0.25, 'tattactgtgtgagagg'),\n",
       " ('IGHD5-24*01', 0.25, 'tattactgtgtgagagg'),\n",
       " ('IGHD7-27*01', 0.364, 'tattactgtgtgagagg'),\n",
       " ('IGHD1/OR15-1a*01', 0.294, 'cccagccacaaacaagtatttttaagcaaaaga'),\n",
       " ('IGHD1/OR15-1b*01', 0.294, 'cccagccacaaacaagtatttttaagcaaaaga'),\n",
       " ('IGHD4-11*01', 0.25, 'cccagccacaaacaagtatttttaagcaaaaga'),\n",
       " ('IGHD4-4*01', 0.25, 'cccagccacaaacaagtatttttaagcaaaaga'),\n",
       " ('IGHD6-6*01', 0.278, 'cccagccacaaacaagtatttttaagcaaaaga'),\n",
       " ('IGHD7-27*01', 0.273, 'cccagccacaaacaagtatttttaagcaaaaga'),\n",
       " ('IGHD7-27*01', 0.364, 'gggaatctagg'),\n",
       " ('IGHD7-27*01', 0.364, 'ctaagaaaatatctt'),\n",
       " ('IGHD4-11*01', 0.25, 'aggacactaga'),\n",
       " ('IGHD4-17*01', 0.25, 'aggacactaga'),\n",
       " ('IGHD4-4*01', 0.25, 'aggacactaga'),\n",
       " ('IGHD7-27*01', 0.273, 'aggacactaga'),\n",
       " ('IGHD4-17*01', 0.25, 'gtacgagtcc')]"
      ]
     },
     "execution_count": 14,
     "metadata": {},
     "output_type": "execute_result"
    }
   ],
   "source": [
    "top_matches_d"
   ]
  },
  {
   "cell_type": "markdown",
   "metadata": {},
   "source": [
    "j genes"
   ]
  },
  {
   "cell_type": "code",
   "execution_count": 15,
   "metadata": {},
   "outputs": [],
   "source": [
    "f = './output/IGHJ_pseudogenes_found.pickle'\n",
    "jseq_dict, jtype_dict = prep_database( jgene_file )"
   ]
  },
  {
   "cell_type": "code",
   "execution_count": 16,
   "metadata": {},
   "outputs": [],
   "source": [
    "with open( f, 'rb' ) as fp:\n",
    "    pseudogenes_j = pickle.load( fp )"
   ]
  },
  {
   "cell_type": "code",
   "execution_count": 17,
   "metadata": {},
   "outputs": [],
   "source": [
    "pseudo_dict_j = pseudo_matches( pseudogenes_j, jseq_dict )"
   ]
  },
  {
   "cell_type": "code",
   "execution_count": 18,
   "metadata": {},
   "outputs": [],
   "source": [
    "top_matches_j = top_matches( pseudo_dict_j )"
   ]
  },
  {
   "cell_type": "markdown",
   "metadata": {},
   "source": [
    "### Updating Pseudogene Database"
   ]
  },
  {
   "cell_type": "code",
   "execution_count": null,
   "metadata": {},
   "outputs": [],
   "source": [
    "pseudo_df = pd.read_csv( pseudo_data )"
   ]
  },
  {
   "cell_type": "code",
   "execution_count": null,
   "metadata": {},
   "outputs": [],
   "source": [
    "pseudo_df = pd.DataFrame( columns=['Allele', 'Percent Match', 'Gene'] )"
   ]
  },
  {
   "cell_type": "code",
   "execution_count": null,
   "metadata": {},
   "outputs": [],
   "source": [
    "pseudo_df['Gene'] = pseudogenes"
   ]
  },
  {
   "cell_type": "code",
   "execution_count": null,
   "metadata": {},
   "outputs": [],
   "source": [
    "pseudo_df"
   ]
  }
 ],
 "metadata": {
  "kernelspec": {
   "display_name": "Python 3",
   "language": "python",
   "name": "python3"
  },
  "language_info": {
   "codemirror_mode": {
    "name": "ipython",
    "version": 3
   },
   "file_extension": ".py",
   "mimetype": "text/x-python",
   "name": "python",
   "nbconvert_exporter": "python",
   "pygments_lexer": "ipython3",
   "version": "3.6.6"
  }
 },
 "nbformat": 4,
 "nbformat_minor": 2
}
