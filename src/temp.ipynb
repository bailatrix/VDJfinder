{
 "cells": [
  {
   "cell_type": "code",
   "execution_count": 1,
   "metadata": {},
   "outputs": [],
   "source": [
    "from os.path import isfile\n",
    "from os.path import basename\n",
    "from Bio.SeqIO import parse\n",
    "import pandas as pd"
   ]
  },
  {
   "cell_type": "code",
   "execution_count": 2,
   "metadata": {},
   "outputs": [],
   "source": [
    "from os import listdir"
   ]
  },
  {
   "cell_type": "code",
   "execution_count": 3,
   "metadata": {},
   "outputs": [],
   "source": [
    "from modules import prep_IO\n",
    "from modules import search"
   ]
  },
  {
   "cell_type": "markdown",
   "metadata": {},
   "source": [
    "# Temporary testing"
   ]
  },
  {
   "cell_type": "code",
   "execution_count": 4,
   "metadata": {},
   "outputs": [
    {
     "name": "stdout",
     "output_type": "stream",
     "text": [
      "Unexpected error: <class 'NameError'>\n"
     ]
    },
    {
     "ename": "NameError",
     "evalue": "name 'read_dir' is not defined",
     "output_type": "error",
     "traceback": [
      "\u001b[0;31m---------------------------------------------------------------------------\u001b[0m",
      "\u001b[0;31mNameError\u001b[0m                                 Traceback (most recent call last)",
      "\u001b[0;32m<ipython-input-4-834df4d2d6c1>\u001b[0m in \u001b[0;36m<module>\u001b[0;34m()\u001b[0m\n\u001b[0;32m----> 1\u001b[0;31m \u001b[0msearch\u001b[0m\u001b[0;34m.\u001b[0m\u001b[0msearch\u001b[0m\u001b[0;34m(\u001b[0m \u001b[0;34m'./data/input/IGH_locus.fasta'\u001b[0m\u001b[0;34m,\u001b[0m \u001b[0;34m'IGH'\u001b[0m\u001b[0;34m)\u001b[0m\u001b[0;34m\u001b[0m\u001b[0m\n\u001b[0m",
      "\u001b[0;32m~/projects/VDJfinder/src/modules/search.py\u001b[0m in \u001b[0;36msearch\u001b[0;34m(locus_file, locus_type, gene, custom_rules)\u001b[0m\n\u001b[1;32m     59\u001b[0m             \u001b[0;32mif\u001b[0m \u001b[0;34m(\u001b[0m\u001b[0mgene\u001b[0m \u001b[0;34m==\u001b[0m \u001b[0;34m'ALL'\u001b[0m\u001b[0;34m)\u001b[0m \u001b[0;32mand\u001b[0m \u001b[0;34m(\u001b[0m\u001b[0mlocus_type\u001b[0m \u001b[0;32min\u001b[0m \u001b[0;34m[\u001b[0m\u001b[0;34m'IGH'\u001b[0m\u001b[0;34m,\u001b[0m \u001b[0;34m'TRB'\u001b[0m\u001b[0;34m]\u001b[0m\u001b[0;34m)\u001b[0m\u001b[0;34m:\u001b[0m\u001b[0;34m\u001b[0m\u001b[0m\n\u001b[1;32m     60\u001b[0m \u001b[0;34m\u001b[0m\u001b[0m\n\u001b[0;32m---> 61\u001b[0;31m                 \u001b[0mlast_v_nt\u001b[0m \u001b[0;34m=\u001b[0m \u001b[0mv_gene\u001b[0m\u001b[0;34m.\u001b[0m\u001b[0mv_search\u001b[0m\u001b[0;34m(\u001b[0m \u001b[0mlocus_file\u001b[0m\u001b[0;34m,\u001b[0m \u001b[0mlocus_type\u001b[0m \u001b[0;34m)\u001b[0m\u001b[0;34m\u001b[0m\u001b[0m\n\u001b[0m\u001b[1;32m     62\u001b[0m                 \u001b[0md_gene\u001b[0m\u001b[0;34m.\u001b[0m\u001b[0md_search\u001b[0m\u001b[0;34m(\u001b[0m \u001b[0mlocus_file\u001b[0m\u001b[0;34m,\u001b[0m \u001b[0mlocus_type\u001b[0m\u001b[0;34m,\u001b[0m \u001b[0mlast_v_nt\u001b[0m \u001b[0;34m)\u001b[0m\u001b[0;34m\u001b[0m\u001b[0m\n\u001b[1;32m     63\u001b[0m                 \u001b[0mj_gene\u001b[0m\u001b[0;34m.\u001b[0m\u001b[0mj_search\u001b[0m\u001b[0;34m(\u001b[0m \u001b[0mlocus_file\u001b[0m\u001b[0;34m,\u001b[0m \u001b[0mlocus_type\u001b[0m\u001b[0;34m,\u001b[0m \u001b[0mlast_v_nt\u001b[0m \u001b[0;34m)\u001b[0m\u001b[0;34m\u001b[0m\u001b[0m\n",
      "\u001b[0;32m~/projects/VDJfinder/src/modules/v_gene.py\u001b[0m in \u001b[0;36mv_search\u001b[0;34m(locus_file, locus_type, last_v_nt)\u001b[0m\n\u001b[1;32m    143\u001b[0m \u001b[0;34m\u001b[0m\u001b[0m\n\u001b[1;32m    144\u001b[0m     \u001b[0;31m# V and J genes need to compute the aa_frame but D gene only needs nts\u001b[0m\u001b[0;34m\u001b[0m\u001b[0;34m\u001b[0m\u001b[0m\n\u001b[0;32m--> 145\u001b[0;31m         \u001b[0;32mif\u001b[0m \u001b[0mread_dir\u001b[0m \u001b[0;34m==\u001b[0m \u001b[0;34m'reverse'\u001b[0m\u001b[0;34m:\u001b[0m\u001b[0;34m\u001b[0m\u001b[0m\n\u001b[0m\u001b[1;32m    146\u001b[0m             \u001b[0mnt\u001b[0m \u001b[0;34m=\u001b[0m \u001b[0mnt\u001b[0m\u001b[0;34m.\u001b[0m\u001b[0mreverse_complement\u001b[0m\u001b[0;34m(\u001b[0m\u001b[0;34m)\u001b[0m\u001b[0;34m\u001b[0m\u001b[0m\n\u001b[1;32m    147\u001b[0m \u001b[0;34m\u001b[0m\u001b[0m\n",
      "\u001b[0;31mNameError\u001b[0m: name 'read_dir' is not defined"
     ]
    }
   ],
   "source": [
    "search.search( './data/input/IGH_locus.fasta', 'IGH')"
   ]
  },
  {
   "cell_type": "code",
   "execution_count": null,
   "metadata": {},
   "outputs": [],
   "source": []
  }
 ],
 "metadata": {
  "kernelspec": {
   "display_name": "Python 3",
   "language": "python",
   "name": "python3"
  },
  "language_info": {
   "codemirror_mode": {
    "name": "ipython",
    "version": 3
   },
   "file_extension": ".py",
   "mimetype": "text/x-python",
   "name": "python",
   "nbconvert_exporter": "python",
   "pygments_lexer": "ipython3",
   "version": "3.6.6"
  }
 },
 "nbformat": 4,
 "nbformat_minor": 2
}
