{
 "cells": [
  {
   "cell_type": "markdown",
   "metadata": {},
   "source": []
  },
  {
   "cell_type": "code",
   "execution_count": null,
   "metadata": {},
   "outputs": [],
   "source": [
    "# system dependencies\n",
    "from argparse import ArgumentParser"
   ]
  },
  {
   "cell_type": "code",
   "execution_count": null,
   "metadata": {},
   "outputs": [],
   "source": [
    "# program dependencies\n",
    "import pandas as pd"
   ]
  },
  {
   "cell_type": "code",
   "execution_count": null,
   "metadata": {},
   "outputs": [],
   "source": [
    "# homemade programs\n",
    "from src import modules "
   ]
  },
  {
   "cell_type": "markdown",
   "metadata": {},
   "source": [
    "#### _Below cell is for Jupyter Notebook execution of program_"
   ]
  },
  {
   "cell_type": "code",
   "execution_count": null,
   "metadata": {},
   "outputs": [],
   "source": []
  },
  {
   "cell_type": "markdown",
   "metadata": {},
   "source": [
    "#### _Below cell is for command line execution of program_"
   ]
  },
  {
   "cell_type": "code",
   "execution_count": null,
   "metadata": {},
   "outputs": [],
   "source": [
    "## get and parse user input from script call\n",
    "#parser = argparse.ArgumentParser(description='Find VDJ genes in fasta files of long reads.')\n",
    "#parser.add_argument('-l', dest='locus_type', help='Locus type', choices={'IGH', 'IGK', 'IGL', 'TRA', 'TRB'})\n",
    "#parser.add_argument('-f', dest='locus_file', help='Input fasta file to search')\n",
    "#parser.add_argument('-x', dest='read_dir', help='Reading frame direction', choices={'forward', 'reverse'}, default='forward')\n",
    "#\n",
    "## build local variables from arguments passed in\n",
    "#args       = parser.parse_args()\n",
    "#locus_type = args.locus_type\n",
    "#locus_file = args.locus_file\n",
    "#read_dir   = args.read_dir"
   ]
  },
  {
   "cell_type": "markdown",
   "metadata": {},
   "source": [
    "### Build "
   ]
  },
  {
   "cell_type": "code",
   "execution_count": null,
   "metadata": {},
   "outputs": [],
   "source": []
  }
 ],
 "metadata": {
  "kernelspec": {
   "display_name": "Python 3",
   "language": "python",
   "name": "python3"
  },
  "language_info": {
   "codemirror_mode": {
    "name": "ipython",
    "version": 3
   },
   "file_extension": ".py",
   "mimetype": "text/x-python",
   "name": "python",
   "nbconvert_exporter": "python",
   "pygments_lexer": "ipython3",
   "version": "3.6.6"
  }
 },
 "nbformat": 4,
 "nbformat_minor": 2
}
